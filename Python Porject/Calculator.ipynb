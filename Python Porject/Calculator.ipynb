{
 "cells": [
  {
   "cell_type": "code",
   "execution_count": null,
   "id": "37aed819",
   "metadata": {},
   "outputs": [],
   "source": [
    "\n",
    "from kivy.app import App\n",
    "from kivy.uix.button import Button\n",
    "from kivy.uix.boxlayout import BoxLayout\n",
    "from kivy.uix.gridlayout import GridLayout\n",
    "from kivy.uix.label import Label\n",
    "\n",
    "class myApp(App):\n",
    "    def build(self):\n",
    "        root_widget = BoxLayout(orientation='vertical')\n",
    "        output_label = Label(size_hint_y = 0.75, font_size=50)\n",
    "        button_symbols = ('1', '2', '3', '+',\n",
    "                          '4', '5', '6', '-',\n",
    "                          '7', '8', '9', '.',\n",
    "                          '0', '*', '/', '=')\n",
    "        button_grid = GridLayout(cols=4, size_hint_y=2)\n",
    "        for symbol in button_symbols:\n",
    "            button_grid.add_widget(Button(text=symbol))\n",
    "\n",
    "        clear_button = Button(text = 'Clear', size_hint_y=None, height=100)\n",
    "        def print_button_text(instance):\n",
    "            output_label.text += instance.text\n",
    "        for button in button_grid.children[1:]:\n",
    "            button.bind(on_press=print_button_text)\n",
    "        def resize_label_text(label, new_height):\n",
    "            label.fontsize = 0.5*label.height\n",
    "        output_label.bind(height=resize_label_text)\n",
    "\n",
    "        def evaluate_result(instance):\n",
    "            try:\n",
    "                output_label.text = str(eval(output_label.text))\n",
    "            except SyntaxError:\n",
    "                output_label.text = 'Python Syntax error!'\n",
    "        button_grid.children[0].bind(on_press=evaluate_result)\n",
    "\n",
    "        def clear_label(instance):\n",
    "            output_label.text = \" \"\n",
    "        clear_button.bind(on_press=clear_label)\n",
    "\n",
    "        root_widget.add_widget(output_label)\n",
    "        root_widget.add_widget(button_grid)\n",
    "        root_widget.add_widget(clear_button)\n",
    "        return root_widget\n",
    "myApp().run()"
   ]
  },
  {
   "cell_type": "code",
   "execution_count": null,
   "id": "7b90fc69",
   "metadata": {},
   "outputs": [],
   "source": []
  }
 ],
 "metadata": {
  "kernelspec": {
   "display_name": "Python 3 (ipykernel)",
   "language": "python",
   "name": "python3"
  },
  "language_info": {
   "codemirror_mode": {
    "name": "ipython",
    "version": 3
   },
   "file_extension": ".py",
   "mimetype": "text/x-python",
   "name": "python",
   "nbconvert_exporter": "python",
   "pygments_lexer": "ipython3",
   "version": "3.9.13"
  }
 },
 "nbformat": 4,
 "nbformat_minor": 5
}
