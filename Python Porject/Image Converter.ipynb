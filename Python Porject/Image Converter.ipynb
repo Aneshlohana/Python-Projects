{
 "cells": [
  {
   "cell_type": "code",
   "execution_count": 1,
   "id": "2582e6fc",
   "metadata": {},
   "outputs": [
    {
     "name": "stderr",
     "output_type": "stream",
     "text": [
      "Exception in Tkinter callback\n",
      "Traceback (most recent call last):\n",
      "  File \"C:\\Users\\HP\\anaconda3\\lib\\site-packages\\PIL\\JpegImagePlugin.py\", line 630, in _save\n",
      "    rawmode = RAWMODE[im.mode]\n",
      "KeyError: 'RGBA'\n",
      "\n",
      "The above exception was the direct cause of the following exception:\n",
      "\n",
      "Traceback (most recent call last):\n",
      "  File \"C:\\Users\\HP\\anaconda3\\lib\\tkinter\\__init__.py\", line 1892, in __call__\n",
      "    return self.func(*args)\n",
      "  File \"C:\\Users\\HP\\AppData\\Local\\Temp\\ipykernel_17204\\1800217904.py\", line 24, in convert\n",
      "    im1.save(export_file_path)\n",
      "  File \"C:\\Users\\HP\\anaconda3\\lib\\site-packages\\PIL\\Image.py\", line 2320, in save\n",
      "    save_handler(self, fp, filename)\n",
      "  File \"C:\\Users\\HP\\anaconda3\\lib\\site-packages\\PIL\\JpegImagePlugin.py\", line 632, in _save\n",
      "    raise OSError(f\"cannot write mode {im.mode} as JPEG\") from e\n",
      "OSError: cannot write mode RGBA as JPEG\n"
     ]
    }
   ],
   "source": [
    "import tkinter as tk\n",
    "from tkinter import filedialog\n",
    "from PIL import Image\n",
    "\n",
    "root = tk.Tk()\n",
    "canvas1 = tk.Canvas(root, width=300, height=250, bg='azure3', relief='raised')\n",
    "canvas1.pack()\n",
    "\n",
    "label1 = tk.Label(root, text=\"Image Converter\", bg='azure3')\n",
    "label1.config(font=('helvetica', 20))\n",
    "canvas1.create_window(150, 60, window=label1)\n",
    "\n",
    "def getPNG():\n",
    "    global im1\n",
    "    import_file_path = filedialog.askopenfilename()\n",
    "    im1 = Image.open(import_file_path)\n",
    "\n",
    "browse_png = tk.Button(text=\"Select PNG file\", command=getPNG, bg=\"royalblue\", fg='white', font=('helvetica', 12, 'bold'))\n",
    "canvas1.create_window(150, 130, window=browse_png)\n",
    "\n",
    "def convert():\n",
    "    global im1\n",
    "    export_file_path = filedialog.asksaveasfilename(defaultextension='.jpg')\n",
    "    im1.save(export_file_path)\n",
    "\n",
    "saveasbutton = tk.Button(text=\"Convert PNG to JPG\", command=convert, bg='royalblue', fg='white', font=('helvetica', 12, 'bold'))\n",
    "canvas1.create_window(150, 180, window=saveasbutton)\n",
    "root.mainloop()"
   ]
  },
  {
   "cell_type": "code",
   "execution_count": null,
   "id": "96133be1",
   "metadata": {},
   "outputs": [],
   "source": []
  }
 ],
 "metadata": {
  "kernelspec": {
   "display_name": "Python 3 (ipykernel)",
   "language": "python",
   "name": "python3"
  },
  "language_info": {
   "codemirror_mode": {
    "name": "ipython",
    "version": 3
   },
   "file_extension": ".py",
   "mimetype": "text/x-python",
   "name": "python",
   "nbconvert_exporter": "python",
   "pygments_lexer": "ipython3",
   "version": "3.9.13"
  }
 },
 "nbformat": 4,
 "nbformat_minor": 5
}
